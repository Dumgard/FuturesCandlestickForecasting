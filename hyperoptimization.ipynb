{
 "cells": [
  {
   "cell_type": "code",
   "execution_count": 1,
   "id": "a4cc8c05",
   "metadata": {},
   "outputs": [],
   "source": [
    "from hyperoptimization import *"
   ]
  },
  {
   "cell_type": "code",
   "execution_count": 40,
   "id": "24912012",
   "metadata": {},
   "outputs": [],
   "source": [
    "# Some important constants\n",
    "\n",
    "BATCH_SIZE = 64\n",
    "PW = 10\n",
    "ASK_AVG = False\n",
    "provide_avg = False\n",
    "denormalize_output = False\n",
    "keep_time = True\n",
    "VERBOSE = False\n",
    "\n",
    "# Flags of current run\n",
    "COLUMN_MULTIPLIER = True\n",
    "USE_DF = True"
   ]
  },
  {
   "cell_type": "code",
   "execution_count": 23,
   "id": "5976763a",
   "metadata": {},
   "outputs": [],
   "source": [
    "data_filename = 'data/BTCBUSD_CandlestickHist.csv'"
   ]
  },
  {
   "cell_type": "code",
   "execution_count": 24,
   "id": "2c844759",
   "metadata": {
    "scrolled": true
   },
   "outputs": [
    {
     "name": "stdout",
     "output_type": "stream",
     "text": [
      "\n",
      "************************\n",
      "STARTING DATA DIVISION\n",
      "************************\n",
      "\n",
      "Columns of original Data and columns of Multipliers correspondingly:\n",
      "Index(['Open', 'High', 'Low', 'Close', 'Volume', 'Time'], dtype='object') ['Open', 'High', 'Low', 'Close', 'Volume']\n",
      "Original Data Head:\n",
      "      Open     High      Low    Close  Volume          Time\n",
      "0  36060.5  36060.5  36060.5  36060.5   0.469  1.610435e+12\n",
      "1  36042.0  36042.0  36042.0  36042.0   0.001  1.610435e+12\n",
      "2  36042.0  36042.0  35856.5  35856.5   0.906  1.610435e+12\n",
      "3  35829.1  35843.3  35824.0  35843.3   4.397  1.610435e+12\n",
      "4  35834.3  35848.1  35807.9  35815.6   4.650  1.610435e+12\n",
      "Multipliers Head:\n",
      "                 Open     High      Low    Close  Volume\n",
      "general_mean  41184.0  41208.0  41160.0  41184.0    25.0\n",
      "general_std   12297.0  12302.0  12292.0  12297.0    59.0\n",
      "max_std_mean  41184.0  41208.0  41160.0  41184.0    59.0\n",
      "File with column multipliers saved as: data/column_multiplier/column_multiplier_BTCBUSD_CandlestickHist.csv\n",
      "New Data Head:\n",
      "       Open      High       Low     Close    Volume          Time\n",
      "0  0.875595  0.875085  0.876105  0.875595  0.007949  1.610435e+12\n",
      "1  0.875146  0.874636  0.875656  0.875146  0.000017  1.610435e+12\n",
      "2  0.875146  0.874636  0.871149  0.870642  0.015356  1.610435e+12\n",
      "3  0.869976  0.869814  0.870360  0.870321  0.074525  1.610435e+12\n",
      "4  0.870102  0.869931  0.869968  0.869648  0.078814  1.610435e+12\n",
      "Distribution after Division:\n",
      "Mean: \n",
      " Open      0.999997\n",
      "High      0.999991\n",
      "Low       1.000008\n",
      "Close     0.999994\n",
      "Volume    0.431352\n",
      "dtype: float64\n",
      "Std: \n",
      " Open      0.298590\n",
      "High      0.298543\n",
      "Low       0.298629\n",
      "Close     0.298588\n",
      "Volume    1.005908\n",
      "dtype: float64\n",
      "File with New Data saved as: data/BTCBUSD_CandlestickHist_div.csv\n",
      "Train data saved to file: data/BTCBUSD_CandlestickHist_div_train.csv, shape of file: (43210, 6)\n",
      "Test data saved to file: data/BTCBUSD_CandlestickHist_div_test.csv, shape of file: (7210, 6)\n"
     ]
    }
   ],
   "source": [
    "# Data preparation\\separation\n",
    "\n",
    "if COLUMN_MULTIPLIER:\n",
    "    data_filename = column_multiplier(filename=data_filename,\n",
    "                                      ignore_time=True,\n",
    "                                      time_col='Time',\n",
    "                                      backward=False,\n",
    "                                      sep=';',\n",
    "                                      dtype='float64',\n",
    "                                      )\n",
    "\n",
    "filename_train, filename_test = train_test_split_by_days(filename=data_filename,\n",
    "                                                         train_days=30,\n",
    "                                                         test_days=5,\n",
    "                                                         window=PW,\n",
    "                                                         time_step=(60000, 'ms'),\n",
    "                                                         to_the_end=True)"
   ]
  },
  {
   "cell_type": "code",
   "execution_count": null,
   "id": "68a9c04c",
   "metadata": {},
   "outputs": [],
   "source": [
    "I = 0"
   ]
  },
  {
   "cell_type": "code",
   "execution_count": 25,
   "id": "d3f99d07",
   "metadata": {},
   "outputs": [],
   "source": [
    "# Defining search-spaces\n",
    "\n",
    "space_adam_ = {\n",
    "    'adam_lr': hp.loguniform('adam_lr', -16, 0),\n",
    "    'adam_b1': hp.loguniform('adam_b1', -0.7, 0),\n",
    "    'adam_b2': hp.loguniform('adam_b2', -0.7, 0),\n",
    "}\n",
    "\n",
    "space_hf_ = {\n",
    "    'hf_lr': hp.uniform('hf_lr', 0.9, 1),\n",
    "}"
   ]
  },
  {
   "cell_type": "code",
   "execution_count": 26,
   "id": "2bcc7c40",
   "metadata": {},
   "outputs": [],
   "source": [
    "# Defining columns\n",
    "\n",
    "# feature_cols = ['o', 'c', 'h', 'l', 'v', 'V', 'n', 'q', 'Q']\n",
    "feature_cols = ['Open', 'High', 'Low', 'Close', 'Volume']\n",
    "target_cols = feature_cols\n",
    "# loss_mask = [4, 5, 6, 7, 8]\n",
    "loss_mask = [4]\n",
    "inp_size = len(feature_cols)\n",
    "time_col = 'Time'"
   ]
  },
  {
   "cell_type": "code",
   "execution_count": 71,
   "id": "836f33b0",
   "metadata": {},
   "outputs": [],
   "source": [
    "# Creating Model Architecture, Loss, Acc, Datasets\n",
    "\n",
    "model_ = Model(inp_size, inp_size, [(\"LSTMCell\", {\"input_size\": inp_size, \"hidden_size\": 512}),\n",
    "                                    (\"Linear\", {\"in_features\": 512, \"out_features\": 256}),\n",
    "                                    (\"LSTMCell\", {\"input_size\": 256, \"hidden_size\": 256}),\n",
    "                                    (\"Linear\", {\"in_features\": 256, \"out_features\": 128}),\n",
    "                                    (\"LSTMCell\", {\"input_size\": 128, \"hidden_size\": 128}),\n",
    "                                    (\"Linear\", {\"in_features\": 128, \"out_features\": 64}),\n",
    "                                    (\"Linear\", {\"in_features\": 64, \"out_features\": inp_size})],\n",
    "                   revin_params={}, ask_avg=ASK_AVG)\n",
    "\n",
    "criterion_ = XTanhLoss()\n",
    "criterion_ = MaskedLoss(input_size=inp_size, loss=criterion_, unused_cols=loss_mask)\n",
    "\n",
    "acc_ = MaskedLoss(input_size=inp_size, loss=MSE(), unused_cols=loss_mask)\n",
    "\n",
    "if USE_DF:\n",
    "    train_df = pd.read_csv(filename_train, header=0, sep=';', dtype='float64')\n",
    "    test_df = pd.read_csv(filename_test, header=0, sep=';', dtype='float64')\n",
    "\n",
    "    train_dataset = KlineDataset(target_cols=target_cols, feature_cols=feature_cols, provide_avg=provide_avg,\n",
    "                                 denormalize_output=denormalize_output,\n",
    "                                 time_col=time_col, keep_time=keep_time, data=train_df, prediction_window=PW)\n",
    "    test_dataset = KlineDataset(target_cols=target_cols, feature_cols=feature_cols, provide_avg=provide_avg,\n",
    "                                denormalize_output=denormalize_output,\n",
    "                                time_col=time_col, keep_time=keep_time, data=test_df, prediction_window=PW)\n",
    "else:\n",
    "    train_dataset = KlineDataset(target_cols=target_cols, feature_cols=feature_cols, provide_avg=provide_avg,\n",
    "                                 denormalize_output=denormalize_output,\n",
    "                                 time_col=time_col, keep_time=keep_time, data_file=filename_train, prediction_window=PW)\n",
    "    test_dataset = KlineDataset(target_cols=target_cols, feature_cols=feature_cols, provide_avg=provide_avg,\n",
    "                                denormalize_output=denormalize_output,\n",
    "                                time_col=time_col, keep_time=keep_time, data_file=filename_test, prediction_window=PW)\n",
    "\n",
    "DATA = [\n",
    "    train_dataset,\n",
    "    test_dataset\n",
    "]"
   ]
  },
  {
   "cell_type": "code",
   "execution_count": 72,
   "id": "14e032cc",
   "metadata": {},
   "outputs": [
    {
     "name": "stdout",
     "output_type": "stream",
     "text": [
      "\r",
      "  0%|                                                                                                                                                                                           | 0/20 [00:00<?, ?trial/s, best loss=?]"
     ]
    },
    {
     "name": "stderr",
     "output_type": "stream",
     "text": [
      "epoch:   0%|                                                                                                                                                                                                     | 0/8 [00:00<?, ?it/s]\n",
      "\u001b[A\n",
      "epoch:   0%|                                                                                                                                                                                                     | 0/8 [01:08<?, ?it/s]\n"
     ]
    },
    {
     "name": "stdout",
     "output_type": "stream",
     "text": [
      "\r",
      "  5%|███████▊                                                                                                                                                     | 1/20 [01:08<21:32, 68.02s/trial, best loss: 1.0733130741466559e-06]"
     ]
    },
    {
     "name": "stderr",
     "output_type": "stream",
     "text": [
      "epoch:   0%|                                                                                                                                                                                                     | 0/8 [00:00<?, ?it/s]\n",
      "\u001b[A\n",
      "epoch:   0%|                                                                                                                                                                                                     | 0/8 [01:09<?, ?it/s]\n"
     ]
    },
    {
     "name": "stdout",
     "output_type": "stream",
     "text": [
      "\r",
      " 10%|███████████████▊                                                                                                                                              | 2/20 [02:17<20:40, 68.93s/trial, best loss: 8.957935894102823e-07]"
     ]
    },
    {
     "name": "stderr",
     "output_type": "stream",
     "text": [
      "epoch:   0%|                                                                                                                                                                                                     | 0/8 [00:00<?, ?it/s]\n",
      "\u001b[A\n",
      "epoch:   0%|                                                                                                                                                                                                     | 0/8 [01:08<?, ?it/s]\n"
     ]
    },
    {
     "name": "stdout",
     "output_type": "stream",
     "text": [
      "\r",
      " 15%|███████████████████████▋                                                                                                                                      | 3/20 [03:26<19:32, 68.96s/trial, best loss: 8.763596420031975e-07]"
     ]
    },
    {
     "name": "stderr",
     "output_type": "stream",
     "text": [
      "epoch:   0%|                                                                                                                                                                                                     | 0/8 [00:00<?, ?it/s]\n",
      "\u001b[A\n",
      "epoch:   0%|                                                                                                                                                                                                     | 0/8 [02:19<?, ?it/s]\n"
     ]
    },
    {
     "name": "stdout",
     "output_type": "stream",
     "text": [
      "\r",
      " 20%|███████████████████████████████▌                                                                                                                              | 4/20 [05:46<25:51, 96.97s/trial, best loss: 8.763596420031975e-07]"
     ]
    },
    {
     "name": "stderr",
     "output_type": "stream",
     "text": [
      "epoch:   0%|                                                                                                                                                                                                     | 0/8 [00:00<?, ?it/s]\n",
      "\u001b[A\n",
      "epoch:   0%|                                                                                                                                                                                                     | 0/8 [01:07<?, ?it/s]\n"
     ]
    },
    {
     "name": "stdout",
     "output_type": "stream",
     "text": [
      "\r",
      " 25%|███████████████████████████████████████▌                                                                                                                      | 5/20 [06:54<21:36, 86.42s/trial, best loss: 8.763596420031975e-07]"
     ]
    },
    {
     "name": "stderr",
     "output_type": "stream",
     "text": [
      "epoch:   0%|                                                                                                                                                                                                     | 0/8 [00:00<?, ?it/s]\n",
      "\u001b[A\n",
      "epoch:   0%|                                                                                                                                                                                                     | 0/8 [01:07<?, ?it/s]\n"
     ]
    },
    {
     "name": "stdout",
     "output_type": "stream",
     "text": [
      "\r",
      " 30%|███████████████████████████████████████████████▍                                                                                                              | 6/20 [08:01<18:40, 80.05s/trial, best loss: 8.715941936958466e-07]"
     ]
    },
    {
     "name": "stderr",
     "output_type": "stream",
     "text": [
      "epoch:   0%|                                                                                                                                                                                                     | 0/8 [00:00<?, ?it/s]\n",
      "\u001b[A\n",
      "epoch:   0%|                                                                                                                                                                                                     | 0/8 [01:07<?, ?it/s]\n"
     ]
    },
    {
     "name": "stdout",
     "output_type": "stream",
     "text": [
      "\r",
      " 35%|███████████████████████████████████████████████████████▎                                                                                                      | 7/20 [09:09<16:26, 75.89s/trial, best loss: 8.715941936958466e-07]"
     ]
    },
    {
     "name": "stderr",
     "output_type": "stream",
     "text": [
      "epoch:   0%|                                                                                                                                                                                                     | 0/8 [00:00<?, ?it/s]\n",
      "\u001b[A\n",
      "epoch:   0%|                                                                                                                                                                                                     | 0/8 [01:08<?, ?it/s]\n"
     ]
    },
    {
     "name": "stdout",
     "output_type": "stream",
     "text": [
      "\r",
      " 40%|███████████████████████████████████████████████████████████████▏                                                                                              | 8/20 [10:17<14:41, 73.44s/trial, best loss: 8.715941936958466e-07]"
     ]
    },
    {
     "name": "stderr",
     "output_type": "stream",
     "text": [
      "epoch:   0%|                                                                                                                                                                                                     | 0/8 [00:00<?, ?it/s]\n",
      "\u001b[A\n",
      "epoch:   0%|                                                                                                                                                                                                     | 0/8 [01:06<?, ?it/s]\n"
     ]
    },
    {
     "name": "stdout",
     "output_type": "stream",
     "text": [
      "\r",
      " 45%|███████████████████████████████████████████████████████████████████████                                                                                       | 9/20 [11:24<13:05, 71.40s/trial, best loss: 8.715941936958466e-07]"
     ]
    },
    {
     "name": "stderr",
     "output_type": "stream",
     "text": [
      "epoch:   0%|                                                                                                                                                                                                     | 0/8 [00:00<?, ?it/s]\n",
      "\u001b[A\n",
      "epoch:   0%|                                                                                                                                                                                                     | 0/8 [01:07<?, ?it/s]\n"
     ]
    },
    {
     "name": "stdout",
     "output_type": "stream",
     "text": [
      "\r",
      " 50%|██████████████████████████████████████████████████████████████████████████████▌                                                                              | 10/20 [12:32<11:42, 70.26s/trial, best loss: 8.389993547578028e-07]"
     ]
    },
    {
     "name": "stderr",
     "output_type": "stream",
     "text": [
      "epoch:   0%|                                                                                                                                                                                                     | 0/8 [00:00<?, ?it/s]\n",
      "\u001b[A\n",
      "epoch:   0%|                                                                                                                                                                                                     | 0/8 [01:07<?, ?it/s]\n"
     ]
    },
    {
     "name": "stdout",
     "output_type": "stream",
     "text": [
      "\r",
      " 55%|██████████████████████████████████████████████████████████████████████████████████████▎                                                                      | 11/20 [13:39<10:24, 69.35s/trial, best loss: 8.389993547578028e-07]"
     ]
    },
    {
     "name": "stderr",
     "output_type": "stream",
     "text": [
      "epoch:   0%|                                                                                                                                                                                                     | 0/8 [00:00<?, ?it/s]\n",
      "\u001b[A\n",
      "epoch:   0%|                                                                                                                                                                                                     | 0/8 [01:07<?, ?it/s]\n"
     ]
    },
    {
     "name": "stdout",
     "output_type": "stream",
     "text": [
      "\r",
      " 60%|██████████████████████████████████████████████████████████████████████████████████████████████▏                                                              | 12/20 [14:46<09:09, 68.68s/trial, best loss: 8.389993547578028e-07]"
     ]
    },
    {
     "name": "stderr",
     "output_type": "stream",
     "text": [
      "epoch:   0%|                                                                                                                                                                                                     | 0/8 [00:00<?, ?it/s]\n",
      "\u001b[A\n",
      "epoch:   0%|                                                                                                                                                                                                     | 0/8 [01:07<?, ?it/s]\n"
     ]
    },
    {
     "name": "stdout",
     "output_type": "stream",
     "text": [
      "\r",
      " 65%|██████████████████████████████████████████████████████████████████████████████████████████████████████                                                       | 13/20 [15:53<07:57, 68.24s/trial, best loss: 8.389993547578028e-07]"
     ]
    },
    {
     "name": "stderr",
     "output_type": "stream",
     "text": [
      "epoch:   0%|                                                                                                                                                                                                     | 0/8 [00:00<?, ?it/s]\n",
      "\u001b[A\n",
      "epoch:   0%|                                                                                                                                                                                                     | 0/8 [01:07<?, ?it/s]\n"
     ]
    },
    {
     "name": "stdout",
     "output_type": "stream",
     "text": [
      "\r",
      " 70%|█████████████████████████████████████████████████████████████████████████████████████████████████████████████▉                                               | 14/20 [17:01<06:47, 68.00s/trial, best loss: 8.389993547578028e-07]"
     ]
    },
    {
     "name": "stderr",
     "output_type": "stream",
     "text": [
      "epoch:   0%|                                                                                                                                                                                                     | 0/8 [00:00<?, ?it/s]\n",
      "\u001b[A\n",
      "epoch:   0%|                                                                                                                                                                                                     | 0/8 [01:07<?, ?it/s]\n"
     ]
    },
    {
     "name": "stdout",
     "output_type": "stream",
     "text": [
      "\r",
      " 75%|█████████████████████████████████████████████████████████████████████████████████████████████████████████████████████▊                                       | 15/20 [18:08<05:39, 67.90s/trial, best loss: 8.389993547578028e-07]"
     ]
    },
    {
     "name": "stderr",
     "output_type": "stream",
     "text": [
      "epoch:   0%|                                                                                                                                                                                                     | 0/8 [00:00<?, ?it/s]\n",
      "\u001b[A\n",
      "epoch:   0%|                                                                                                                                                                                                     | 0/8 [01:51<?, ?it/s]\n"
     ]
    },
    {
     "name": "stdout",
     "output_type": "stream",
     "text": [
      "\r",
      " 80%|█████████████████████████████████████████████████████████████████████████████████████████████████████████████████████████████▌                               | 16/20 [20:00<05:24, 81.06s/trial, best loss: 8.389993547578028e-07]"
     ]
    },
    {
     "name": "stderr",
     "output_type": "stream",
     "text": [
      "epoch:   0%|                                                                                                                                                                                                     | 0/8 [00:00<?, ?it/s]\n",
      "\u001b[A\n",
      "epoch:   0%|                                                                                                                                                                                                     | 0/8 [01:11<?, ?it/s]\n"
     ]
    },
    {
     "name": "stdout",
     "output_type": "stream",
     "text": [
      "\r",
      " 85%|█████████████████████████████████████████████████████████████████████████████████████████████████████████████████████████████████████▍                       | 17/20 [21:11<03:54, 78.08s/trial, best loss: 8.389993547578028e-07]"
     ]
    },
    {
     "name": "stderr",
     "output_type": "stream",
     "text": [
      "epoch:   0%|                                                                                                                                                                                                     | 0/8 [00:00<?, ?it/s]\n",
      "\u001b[A\n",
      "epoch:   0%|                                                                                                                                                                                                     | 0/8 [01:09<?, ?it/s]\n"
     ]
    },
    {
     "name": "stdout",
     "output_type": "stream",
     "text": [
      "\r",
      " 90%|█████████████████████████████████████████████████████████████████████████████████████████████████████████████████████████████████████████████▎               | 18/20 [22:20<02:30, 75.42s/trial, best loss: 8.389993547578028e-07]"
     ]
    },
    {
     "name": "stderr",
     "output_type": "stream",
     "text": [
      "epoch:   0%|                                                                                                                                                                                                     | 0/8 [00:00<?, ?it/s]\n",
      "\u001b[A\n",
      "epoch:   0%|                                                                                                                                                                                                     | 0/8 [02:01<?, ?it/s]\n"
     ]
    },
    {
     "name": "stdout",
     "output_type": "stream",
     "text": [
      "\r",
      " 95%|█████████████████████████████████████████████████████████████████████████████████████████████████████████████████████████████████████████████████████▏       | 19/20 [24:22<01:29, 89.39s/trial, best loss: 8.389993547578028e-07]"
     ]
    },
    {
     "name": "stderr",
     "output_type": "stream",
     "text": [
      "epoch:   0%|                                                                                                                                                                                                     | 0/8 [00:00<?, ?it/s]\n",
      "\u001b[A\n",
      "epoch:   0%|                                                                                                                                                                                                     | 0/8 [01:08<?, ?it/s]\n"
     ]
    },
    {
     "name": "stdout",
     "output_type": "stream",
     "text": [
      "100%|█████████████████████████████████████████████████████████████████████████████████████████████████████████████████████████████████████████████████████████████| 20/20 [25:31<00:00, 76.56s/trial, best loss: 8.389993547578028e-07]\n",
      "  0%|                                                                                                                                                                                           | 0/20 [00:00<?, ?trial/s, best loss=?]"
     ]
    },
    {
     "name": "stderr",
     "output_type": "stream",
     "text": [
      "epoch:   0%|                                                                                                                                                                                                     | 0/8 [00:00<?, ?it/s]\n",
      "\u001b[A\n",
      "epoch:   0%|                                                                                                                                                                                                     | 0/8 [06:46<?, ?it/s]\n"
     ]
    },
    {
     "name": "stdout",
     "output_type": "stream",
     "text": [
      "\r",
      "  5%|███████▋                                                                                                                                                  | 1/20 [06:46<2:08:37, 406.19s/trial, best loss: 1.2817276569499132e-06]"
     ]
    },
    {
     "name": "stderr",
     "output_type": "stream",
     "text": [
      "epoch:   0%|                                                                                                                                                                                                     | 0/8 [00:00<?, ?it/s]\n",
      "\u001b[A\n",
      "epoch:   0%|                                                                                                                                                                                                     | 0/8 [06:46<?, ?it/s]\n"
     ]
    },
    {
     "name": "stdout",
     "output_type": "stream",
     "text": [
      "\r",
      " 10%|███████████████▌                                                                                                                                           | 2/20 [13:33<2:01:59, 406.64s/trial, best loss: 1.281727650976324e-06]"
     ]
    },
    {
     "name": "stderr",
     "output_type": "stream",
     "text": [
      "epoch:   0%|                                                                                                                                                                                                     | 0/8 [00:00<?, ?it/s]\n",
      "\u001b[A\n",
      "epoch:   0%|                                                                                                                                                                                                     | 0/8 [06:47<?, ?it/s]\n"
     ]
    },
    {
     "name": "stdout",
     "output_type": "stream",
     "text": [
      "\r",
      " 15%|███████████████████████▎                                                                                                                                   | 3/20 [20:20<1:55:16, 406.86s/trial, best loss: 1.281727650976324e-06]"
     ]
    },
    {
     "name": "stderr",
     "output_type": "stream",
     "text": [
      "epoch:   0%|                                                                                                                                                                                                     | 0/8 [00:00<?, ?it/s]\n",
      "\u001b[A\n",
      "epoch:   0%|                                                                                                                                                                                                     | 0/8 [06:48<?, ?it/s]\n"
     ]
    },
    {
     "name": "stdout",
     "output_type": "stream",
     "text": [
      "\r",
      " 20%|███████████████████████████████                                                                                                                            | 4/20 [27:08<1:48:39, 407.47s/trial, best loss: 1.281727650976324e-06]"
     ]
    },
    {
     "name": "stderr",
     "output_type": "stream",
     "text": [
      "epoch:   0%|                                                                                                                                                                                                     | 0/8 [00:00<?, ?it/s]\n",
      "\u001b[A\n",
      "epoch:   0%|                                                                                                                                                                                                     | 0/8 [06:46<?, ?it/s]\n"
     ]
    },
    {
     "name": "stdout",
     "output_type": "stream",
     "text": [
      "\r",
      " 25%|██████████████████████████████████████▊                                                                                                                    | 5/20 [33:55<1:41:48, 407.21s/trial, best loss: 1.281727650976324e-06]"
     ]
    },
    {
     "name": "stderr",
     "output_type": "stream",
     "text": [
      "epoch:   0%|                                                                                                                                                                                                     | 0/8 [00:00<?, ?it/s]\n",
      "\u001b[A\n",
      "epoch:   0%|                                                                                                                                                                                                     | 0/8 [06:46<?, ?it/s]\n"
     ]
    },
    {
     "name": "stdout",
     "output_type": "stream",
     "text": [
      "\r",
      " 30%|██████████████████████████████████████████████▌                                                                                                            | 6/20 [40:42<1:34:58, 407.04s/trial, best loss: 1.281727650976324e-06]"
     ]
    },
    {
     "name": "stderr",
     "output_type": "stream",
     "text": [
      "epoch:   0%|                                                                                                                                                                                                     | 0/8 [00:00<?, ?it/s]\n",
      "\u001b[A\n",
      "epoch:   0%|                                                                                                                                                                                                     | 0/8 [06:46<?, ?it/s]\n"
     ]
    },
    {
     "name": "stdout",
     "output_type": "stream",
     "text": [
      "\r",
      " 35%|██████████████████████████████████████████████████████▎                                                                                                    | 7/20 [47:28<1:28:08, 406.78s/trial, best loss: 1.281727650976324e-06]"
     ]
    },
    {
     "name": "stderr",
     "output_type": "stream",
     "text": [
      "epoch:   0%|                                                                                                                                                                                                     | 0/8 [00:00<?, ?it/s]\n",
      "\u001b[A\n",
      "epoch:   0%|                                                                                                                                                                                                     | 0/8 [06:46<?, ?it/s]\n"
     ]
    },
    {
     "name": "stdout",
     "output_type": "stream",
     "text": [
      "\r",
      " 40%|██████████████████████████████████████████████████████████████                                                                                             | 8/20 [54:14<1:21:18, 406.56s/trial, best loss: 1.281727650976324e-06]"
     ]
    },
    {
     "name": "stderr",
     "output_type": "stream",
     "text": [
      "epoch:   0%|                                                                                                                                                                                                     | 0/8 [00:00<?, ?it/s]\n",
      "\u001b[A\n",
      "epoch:   0%|                                                                                                                                                                                                     | 0/8 [06:54<?, ?it/s]\n"
     ]
    },
    {
     "name": "stdout",
     "output_type": "stream",
     "text": [
      "\r",
      " 45%|████████████████████████████████████████████████████████████████████▊                                                                                    | 9/20 [1:01:09<1:15:00, 409.11s/trial, best loss: 1.281727650976324e-06]"
     ]
    },
    {
     "name": "stderr",
     "output_type": "stream",
     "text": [
      "epoch:   0%|                                                                                                                                                                                                     | 0/8 [00:00<?, ?it/s]\n",
      "\u001b[A\n",
      "epoch:   0%|                                                                                                                                                                                                     | 0/8 [06:51<?, ?it/s]\n"
     ]
    },
    {
     "name": "stdout",
     "output_type": "stream",
     "text": [
      "\r",
      " 50%|████████████████████████████████████████████████████████████████████████████                                                                            | 10/20 [1:08:00<1:08:17, 409.71s/trial, best loss: 1.281727650976324e-06]"
     ]
    },
    {
     "name": "stderr",
     "output_type": "stream",
     "text": [
      "epoch:   0%|                                                                                                                                                                                                     | 0/8 [00:00<?, ?it/s]\n",
      "\u001b[A\n",
      "epoch:   0%|                                                                                                                                                                                                     | 0/8 [07:33<?, ?it/s]\n"
     ]
    },
    {
     "name": "stdout",
     "output_type": "stream",
     "text": [
      "\r",
      " 55%|███████████████████████████████████████████████████████████████████████████████████▌                                                                    | 11/20 [1:15:33<1:03:27, 423.05s/trial, best loss: 1.281727650976324e-06]"
     ]
    },
    {
     "name": "stderr",
     "output_type": "stream",
     "text": [
      "epoch:   0%|                                                                                                                                                                                                     | 0/8 [00:00<?, ?it/s]\n",
      "\u001b[A\n",
      "epoch:   0%|                                                                                                                                                                                                     | 0/8 [07:37<?, ?it/s]\n"
     ]
    },
    {
     "name": "stdout",
     "output_type": "stream",
     "text": [
      "\r",
      " 60%|████████████████████████████████████████████████████████████████████████████████████████████▍                                                             | 12/20 [1:23:11<57:48, 433.60s/trial, best loss: 1.281727650976324e-06]"
     ]
    },
    {
     "name": "stderr",
     "output_type": "stream",
     "text": [
      "epoch:   0%|                                                                                                                                                                                                     | 0/8 [00:00<?, ?it/s]\n",
      "\u001b[A\n",
      "epoch:   0%|                                                                                                                                                                                                     | 0/8 [07:35<?, ?it/s]\n"
     ]
    },
    {
     "name": "stdout",
     "output_type": "stream",
     "text": [
      "\r",
      " 65%|████████████████████████████████████████████████████████████████████████████████████████████████████                                                      | 13/20 [1:30:47<51:22, 440.32s/trial, best loss: 1.281727650976324e-06]"
     ]
    },
    {
     "name": "stderr",
     "output_type": "stream",
     "text": [
      "epoch:   0%|                                                                                                                                                                                                     | 0/8 [00:00<?, ?it/s]\n",
      "\u001b[A\n",
      "epoch:   0%|                                                                                                                                                                                                     | 0/8 [07:36<?, ?it/s]\n"
     ]
    },
    {
     "name": "stdout",
     "output_type": "stream",
     "text": [
      "\r",
      " 70%|███████████████████████████████████████████████████████████████████████████████████████████████████████████▊                                              | 14/20 [1:38:23<44:31, 445.32s/trial, best loss: 1.281727650976324e-06]"
     ]
    },
    {
     "name": "stderr",
     "output_type": "stream",
     "text": [
      "epoch:   0%|                                                                                                                                                                                                     | 0/8 [00:00<?, ?it/s]\n",
      "\u001b[A\n",
      "epoch:   0%|                                                                                                                                                                                                     | 0/8 [07:30<?, ?it/s]\n"
     ]
    },
    {
     "name": "stdout",
     "output_type": "stream",
     "text": [
      "\r",
      " 75%|███████████████████████████████████████████████████████████████████████████████████████████████████████████████████▌                                      | 15/20 [1:45:54<37:14, 446.93s/trial, best loss: 1.281727650976324e-06]"
     ]
    },
    {
     "name": "stderr",
     "output_type": "stream",
     "text": [
      "epoch:   0%|                                                                                                                                                                                                     | 0/8 [00:00<?, ?it/s]\n",
      "\u001b[A\n",
      "epoch:   0%|                                                                                                                                                                                                     | 0/8 [07:09<?, ?it/s]\n"
     ]
    },
    {
     "name": "stdout",
     "output_type": "stream",
     "text": [
      "\r",
      " 80%|███████████████████████████████████████████████████████████████████████████████████████████████████████████████████████████▏                              | 16/20 [1:53:03<29:26, 441.54s/trial, best loss: 1.281727650976324e-06]"
     ]
    },
    {
     "name": "stderr",
     "output_type": "stream",
     "text": [
      "epoch:   0%|                                                                                                                                                                                                     | 0/8 [00:00<?, ?it/s]\n",
      "\u001b[A\n",
      "epoch:   0%|                                                                                                                                                                                                     | 0/8 [06:46<?, ?it/s]\n"
     ]
    },
    {
     "name": "stdout",
     "output_type": "stream",
     "text": [
      "\r",
      " 85%|██████████████████████████████████████████████████████████████████████████████████████████████████████████████████████████████████▉                       | 17/20 [1:59:50<21:33, 431.14s/trial, best loss: 1.281727650976324e-06]"
     ]
    },
    {
     "name": "stderr",
     "output_type": "stream",
     "text": [
      "epoch:   0%|                                                                                                                                                                                                     | 0/8 [00:00<?, ?it/s]\n",
      "\u001b[A\n",
      "epoch:   0%|                                                                                                                                                                                                     | 0/8 [06:42<?, ?it/s]\n"
     ]
    },
    {
     "name": "stdout",
     "output_type": "stream",
     "text": [
      "\r",
      " 90%|██████████████████████████████████████████████████████████████████████████████████████████████████████████████████████████████████████████▌               | 18/20 [2:06:33<14:05, 422.60s/trial, best loss: 1.281727650976324e-06]"
     ]
    },
    {
     "name": "stderr",
     "output_type": "stream",
     "text": [
      "epoch:   0%|                                                                                                                                                                                                     | 0/8 [00:00<?, ?it/s]\n",
      "\u001b[A\n",
      "epoch:   0%|                                                                                                                                                                                                     | 0/8 [06:40<?, ?it/s]\n"
     ]
    },
    {
     "name": "stdout",
     "output_type": "stream",
     "text": [
      "\r",
      " 95%|██████████████████████████████████████████████████████████████████████████████████████████████████████████████████████████████████████████████████▎       | 19/20 [2:13:14<06:56, 416.07s/trial, best loss: 1.281727650976324e-06]"
     ]
    },
    {
     "name": "stderr",
     "output_type": "stream",
     "text": [
      "epoch:   0%|                                                                                                                                                                                                     | 0/8 [00:00<?, ?it/s]\n",
      "\u001b[A\n",
      "epoch:   0%|                                                                                                                                                                                                     | 0/8 [06:40<?, ?it/s]\n"
     ]
    },
    {
     "name": "stdout",
     "output_type": "stream",
     "text": [
      "100%|██████████████████████████████████████████████████████████████████████████████████████████████████████████████████████████████████████████████████████████| 20/20 [2:19:54<00:00, 419.71s/trial, best loss: 1.281727650976324e-06]\n"
     ]
    }
   ],
   "source": [
    "# Run comparison of HF and Adam\n",
    "\n",
    "N_EPOCH = 8\n",
    "N_ITER = 8\n",
    "\n",
    "adam_trials, hf_trials, adam_best, hf_best = compare_hf_adam(\n",
    "    model=model_,\n",
    "    criterion=criterion_,\n",
    "    accuracy=acc_,\n",
    "    dataloaders=DATA,\n",
    "    n_epoch=N_EPOCH,\n",
    "    space_adam=space_adam_,\n",
    "    space_hf=space_hf_,\n",
    "    batch_size=BATCH_SIZE,\n",
    "    n_iter=N_ITER,\n",
    ")\n",
    "\n",
    "I += 1"
   ]
  },
  {
   "cell_type": "code",
   "execution_count": 73,
   "id": "4989b45c",
   "metadata": {
    "scrolled": true
   },
   "outputs": [
    {
     "name": "stdout",
     "output_type": "stream",
     "text": [
      "ADAM\n",
      "Best:  {'adam_b1': 0.7726922337449729, 'adam_b2': 0.7837036134641777, 'adam_lr': 0.0025071241311313123}\n",
      "HF\n",
      "Best:  {'hf_lr': 0.9323380549759399}\n"
     ]
    }
   ],
   "source": [
    "# Saving calculated Trials for future analysis\n",
    "\n",
    "with open(f'trials/hf_adam_compare/Adam_Trials_{I}.obj', 'wb') as adam_trials_file:\n",
    "    pickle.dump(adam_trials, adam_trials_file)\n",
    "with open(f'trials/hf_adam_compare/HF_Trials_{I}.obj', 'wb') as hf_trials_file:\n",
    "    pickle.dump(hf_trials, hf_trials_file)\n",
    "\n",
    "print('ADAM')\n",
    "print('Best: ', adam_best)\n",
    "# print(adam_trials.results)\n",
    "# print(adam_trials.losses())\n",
    "# print(adam_trials.statuses())\n",
    "\n",
    "print('HF')\n",
    "print('Best: ', hf_best)\n",
    "# print(hf_trials.results)\n",
    "# print(hf_trials.losses())\n",
    "# print(hf_trials.statuses())"
   ]
  },
  {
   "cell_type": "code",
   "execution_count": null,
   "id": "26cfc99a",
   "metadata": {},
   "outputs": [],
   "source": [
    "# ADAM\n",
    "# Best:  {'adam_b1': 0.5194085461666494, 'adam_b2': 0.8182627929015678, 'adam_lr': 0.0005427854695293583}\n",
    "# HF\n",
    "# Best:  {'hf_lr': 0.9364674957353213}"
   ]
  },
  {
   "cell_type": "code",
   "execution_count": 74,
   "id": "bb0fbf5f",
   "metadata": {},
   "outputs": [
    {
     "data": {
      "text/plain": [
       "(8.389993547578028e-07, 1.281727650976324e-06)"
      ]
     },
     "execution_count": 74,
     "metadata": {},
     "output_type": "execute_result"
    }
   ],
   "source": [
    "min(adam_trials.losses()), min(hf_trials.losses())"
   ]
  },
  {
   "cell_type": "code",
   "execution_count": 75,
   "id": "82dadabc",
   "metadata": {},
   "outputs": [],
   "source": [
    "# (8.259116518324623e-07, 1.3728091171685216e-06)"
   ]
  },
  {
   "cell_type": "code",
   "execution_count": 89,
   "id": "05ba4f60",
   "metadata": {},
   "outputs": [
    {
     "data": {
      "image/png": "[encoded data removed]",
      "text/plain": [
       "<Figure size 432x288 with 1 Axes>"
      ]
     },
     "metadata": {
      "needs_background": "light"
     },
     "output_type": "display_data"
    }
   ],
   "source": [
    "plot_group([i for i in adam_trials.losses() if i < 1.])"
   ]
  },
  {
   "cell_type": "code",
   "execution_count": 77,
   "id": "ee14860e",
   "metadata": {},
   "outputs": [
    {
     "data": {
      "image/png": "[encoded data removed]",
      "text/plain": [
       "<Figure size 432x288 with 1 Axes>"
      ]
     },
     "metadata": {
      "needs_background": "light"
     },
     "output_type": "display_data"
    }
   ],
   "source": [
    "plot_group(hf_trials.losses())"
   ]
  },
  {
   "cell_type": "code",
   "execution_count": 78,
   "id": "f28c3192",
   "metadata": {},
   "outputs": [],
   "source": [
    "__min_loss = 100.\n",
    "adam_best_losses = None\n",
    "for res in adam_trials.results:\n",
    "    if res['loss'] < __min_loss:\n",
    "        adam_best_losses = res['losses']\n",
    "\n",
    "hf_best_losses = None\n",
    "for res in hf_trials.results:\n",
    "    if res['loss'] < __min_loss:\n",
    "        hf_best_losses = res['losses']"
   ]
  },
  {
   "cell_type": "code",
   "execution_count": 79,
   "id": "a977fc60",
   "metadata": {},
   "outputs": [
    {
     "data": {
      "image/png": "[encoded data removed]",
      "text/plain": [
       "<Figure size 432x288 with 1 Axes>"
      ]
     },
     "metadata": {
      "needs_background": "light"
     },
     "output_type": "display_data"
    }
   ],
   "source": [
    "plot_group(adam_best_losses)"
   ]
  },
  {
   "cell_type": "code",
   "execution_count": 80,
   "id": "ad077916",
   "metadata": {
    "scrolled": false
   },
   "outputs": [
    {
     "data": {
      "image/png": "[encoded data removed]",
      "text/plain": [
       "<Figure size 432x288 with 1 Axes>"
      ]
     },
     "metadata": {
      "needs_background": "light"
     },
     "output_type": "display_data"
    }
   ],
   "source": [
    "adam_best_loss_by_epoch = [sum(loss) / len(loss) for loss in adam_best_losses]\n",
    "plot_group(adam_best_loss_by_epoch)"
   ]
  },
  {
   "cell_type": "code",
   "execution_count": 92,
   "id": "55617356",
   "metadata": {},
   "outputs": [
    {
     "data": {
      "image/png": "[encoded data removed]",
      "text/plain": [
       "<Figure size 432x288 with 1 Axes>"
      ]
     },
     "metadata": {
      "needs_background": "light"
     },
     "output_type": "display_data"
    }
   ],
   "source": [
    "adam_loss_by_epoch = []\n",
    "for res in adam_trials.results:\n",
    "    adam_loss_by_epoch.append([sum(loss) / len(loss) if sum(loss) / len(loss) < 1. else 1.0e-6 for loss in res['losses']])\n",
    "plot_group(adam_loss_by_epoch[:7])"
   ]
  },
  {
   "cell_type": "code",
   "execution_count": 82,
   "id": "53a2b07b",
   "metadata": {
    "scrolled": true
   },
   "outputs": [
    {
     "data": {
      "image/png": "[encoded data removed]",
      "text/plain": [
       "<Figure size 432x288 with 1 Axes>"
      ]
     },
     "metadata": {
      "needs_background": "light"
     },
     "output_type": "display_data"
    }
   ],
   "source": [
    "plot_group(hf_best_losses)"
   ]
  },
  {
   "cell_type": "code",
   "execution_count": 83,
   "id": "d0af9a8b",
   "metadata": {
    "scrolled": true
   },
   "outputs": [
    {
     "data": {
      "image/png": "[encoded data removed]",
      "text/plain": [
       "<Figure size 432x288 with 1 Axes>"
      ]
     },
     "metadata": {
      "needs_background": "light"
     },
     "output_type": "display_data"
    }
   ],
   "source": [
    "hf_best_loss_by_epoch = [sum(loss) / len(loss) for loss in hf_best_losses]\n",
    "plot_group(hf_best_loss_by_epoch)"
   ]
  },
  {
   "cell_type": "code",
   "execution_count": 84,
   "id": "1b12488e",
   "metadata": {},
   "outputs": [
    {
     "data": {
      "image/png": "[encoded data removed]",
      "text/plain": [
       "<Figure size 432x288 with 1 Axes>"
      ]
     },
     "metadata": {
      "needs_background": "light"
     },
     "output_type": "display_data"
    }
   ],
   "source": [
    "hf_loss_by_epoch = []\n",
    "for res in hf_trials.results:\n",
    "    hf_loss_by_epoch.append([sum(loss) / len(loss) for loss in res['losses']])\n",
    "plot_group(hf_loss_by_epoch[:10])"
   ]
  },
  {
   "cell_type": "code",
   "execution_count": 91,
   "id": "9d491221",
   "metadata": {},
   "outputs": [
    {
     "name": "stdout",
     "output_type": "stream",
     "text": [
      "[1.5862646754553849e-06, 1.5862496368341722e-06, 1.5862496348762323e-06, 1.5862496348551793e-06, 1.586249632970925e-06, 1.5862496401184586e-06, 1.5862496342025326e-06, 1.5862496347078074e-06] [1.5862646706973801e-06, 1.5862496317708975e-06, 1.586249630728768e-06, 1.5862496305287635e-06, 1.5862496328867126e-06, 1.58624963087614e-06, 1.5862496310550913e-06, 1.5862496288550406e-06]\n"
     ]
    }
   ],
   "source": [
    "print(hf_loss_by_epoch[0], hf_loss_by_epoch[1])"
   ]
  },
  {
   "cell_type": "code",
   "execution_count": null,
   "id": "3619f28d",
   "metadata": {},
   "outputs": [],
   "source": []
  },
  {
   "cell_type": "code",
   "execution_count": null,
   "id": "db61441f",
   "metadata": {},
   "outputs": [],
   "source": []
  },
  {
   "cell_type": "code",
   "execution_count": 85,
   "id": "b83f30d4",
   "metadata": {},
   "outputs": [
    {
     "data": {
      "image/png": "[encoded data removed]",
      "text/plain": [
       "<Figure size 432x288 with 1 Axes>"
      ]
     },
     "metadata": {
      "needs_background": "light"
     },
     "output_type": "display_data"
    }
   ],
   "source": [
    "plot_group(hf_best_losses + adam_best_losses)"
   ]
  },
  {
   "cell_type": "code",
   "execution_count": 86,
   "id": "cea96baa",
   "metadata": {},
   "outputs": [
    {
     "data": {
      "image/png": "[encoded data removed]",
      "text/plain": [
       "<Figure size 432x288 with 1 Axes>"
      ]
     },
     "metadata": {
      "needs_background": "light"
     },
     "output_type": "display_data"
    }
   ],
   "source": [
    "plot_group([hf_best_losses[-1], adam_best_losses[-1]])"
   ]
  },
  {
   "cell_type": "code",
   "execution_count": null,
   "id": "f1a79b7a",
   "metadata": {},
   "outputs": [],
   "source": []
  },
  {
   "cell_type": "code",
   "execution_count": null,
   "id": "09ed2563",
   "metadata": {},
   "outputs": [],
   "source": []
  },
  {
   "cell_type": "code",
   "execution_count": null,
   "id": "5bb103c9",
   "metadata": {},
   "outputs": [],
   "source": []
  },
  {
   "cell_type": "code",
   "execution_count": 115,
   "id": "6331ad43",
   "metadata": {},
   "outputs": [],
   "source": [
    "model_ = Model(inp_size, inp_size, [(\"LSTMCell\", {\"input_size\": inp_size, \"hidden_size\": 512}),\n",
    "                                    (\"Linear\", {\"in_features\": 512, \"out_features\": 256}),\n",
    "                                    (\"LSTMCell\", {\"input_size\": 256, \"hidden_size\": 256}),\n",
    "                                    (\"Linear\", {\"in_features\": 256, \"out_features\": 128}),\n",
    "                                    (\"LSTMCell\", {\"input_size\": 128, \"hidden_size\": 128}),\n",
    "                                    (\"Linear\", {\"in_features\": 128, \"out_features\": 64}),\n",
    "                                    (\"Linear\", {\"in_features\": 64, \"out_features\": inp_size})],\n",
    "                   revin_params={}, ask_avg=ASK_AVG)\n",
    "\n",
    "criterion_ = XTanhLoss()\n",
    "criterion_ = MaskedLoss(input_size=inp_size, loss=criterion_, unused_cols=loss_mask)\n",
    "\n",
    "acc_ = MaskedLoss(input_size=inp_size, loss=MSE(), unused_cols=loss_mask)"
   ]
  },
  {
   "cell_type": "code",
   "execution_count": 116,
   "id": "9a20c7e2",
   "metadata": {
    "scrolled": false
   },
   "outputs": [
    {
     "name": "stdout",
     "output_type": "stream",
     "text": [
      "0\n",
      "Parameter containing:\n",
      "tensor([[-0.0162,  0.0311, -0.0058,  0.0335,  0.0114],\n",
      "        [-0.0328, -0.0050,  0.0109, -0.0425, -0.0113],\n",
      "        [-0.0096,  0.0327, -0.0080,  0.0428,  0.0413],\n",
      "        ...,\n",
      "        [-0.0313, -0.0069,  0.0040, -0.0130,  0.0383],\n",
      "        [ 0.0098,  0.0054, -0.0118,  0.0250, -0.0324],\n",
      "        [-0.0348, -0.0296, -0.0078, -0.0250, -0.0215]], requires_grad=True)\n",
      "1\n",
      "Parameter containing:\n",
      "tensor([[ 0.0232, -0.0232, -0.0191,  ..., -0.0333,  0.0292, -0.0241],\n",
      "        [-0.0014,  0.0210, -0.0079,  ...,  0.0428, -0.0186, -0.0398],\n",
      "        [ 0.0038,  0.0351,  0.0185,  ...,  0.0353,  0.0168, -0.0250],\n",
      "        ...,\n",
      "        [ 0.0340,  0.0407, -0.0026,  ...,  0.0323, -0.0352, -0.0107],\n",
      "        [ 0.0088,  0.0414,  0.0423,  ..., -0.0418, -0.0364,  0.0075],\n",
      "        [ 0.0421, -0.0274,  0.0374,  ..., -0.0364,  0.0174, -0.0156]],\n",
      "       requires_grad=True)\n",
      "2\n",
      "Parameter containing:\n",
      "tensor([-0.0090, -0.0045, -0.0149,  ..., -0.0302,  0.0284, -0.0326],\n",
      "       requires_grad=True)\n",
      "3\n",
      "Parameter containing:\n",
      "tensor([-0.0362,  0.0126,  0.0441,  ..., -0.0273,  0.0002,  0.0411],\n",
      "       requires_grad=True)\n",
      "4\n",
      "Parameter containing:\n",
      "tensor([[-0.0262, -0.0140,  0.0320,  ..., -0.0139,  0.0124, -0.0216],\n",
      "        [ 0.0347, -0.0399,  0.0149,  ...,  0.0017, -0.0352,  0.0154],\n",
      "        [ 0.0308,  0.0245, -0.0293,  ...,  0.0187, -0.0195, -0.0416],\n",
      "        ...,\n",
      "        [-0.0397, -0.0372, -0.0422,  ..., -0.0154,  0.0004,  0.0430],\n",
      "        [-0.0026, -0.0076, -0.0177,  ..., -0.0309, -0.0371, -0.0410],\n",
      "        [ 0.0183,  0.0424, -0.0224,  ..., -0.0142, -0.0141, -0.0264]],\n",
      "       requires_grad=True)\n",
      "5\n",
      "Parameter containing:\n",
      "tensor([-1.4165e-02, -7.5870e-03, -2.9997e-03, -3.7259e-03,  8.4737e-04,\n",
      "         1.6516e-02, -2.1967e-02,  2.5110e-02,  2.3091e-02, -3.8792e-02,\n",
      "        -3.6256e-02,  3.4104e-03, -2.7510e-02, -3.6082e-02,  2.2766e-02,\n",
      "         3.6958e-02,  4.1808e-02, -2.4328e-02,  4.4086e-02, -4.0208e-02,\n",
      "        -3.3061e-02,  7.4615e-03, -3.7365e-02,  3.0878e-02,  3.0165e-02,\n",
      "         1.2099e-02, -4.2846e-02,  4.1937e-02,  8.3257e-05, -1.4017e-02,\n",
      "         7.4735e-03,  3.3231e-02, -2.4759e-02, -3.3488e-02,  6.1556e-03,\n",
      "         3.8137e-02, -9.0680e-03, -2.5002e-02,  9.1580e-03,  3.2194e-02,\n",
      "         2.7408e-02,  3.5578e-02,  3.1793e-02, -1.9259e-02,  2.0491e-02,\n",
      "         1.8150e-02, -4.2814e-03, -1.1695e-02,  1.2782e-02,  9.5182e-03,\n",
      "         1.1557e-02,  4.4664e-03,  3.8607e-02, -3.6887e-02, -4.9079e-03,\n",
      "        -3.9653e-02, -4.9645e-03,  2.7168e-03, -4.4110e-02, -1.7915e-02,\n",
      "         3.7142e-02, -3.4879e-02,  1.4293e-02,  3.6087e-02,  2.9196e-02,\n",
      "        -6.7656e-03, -4.2312e-02,  1.8703e-02,  2.1105e-02, -2.8754e-02,\n",
      "        -1.7326e-02, -4.2838e-02, -3.1284e-02,  1.5292e-02,  2.0104e-02,\n",
      "        -2.0433e-02, -3.2092e-02, -2.2510e-02, -8.6733e-03, -2.1117e-02,\n",
      "         3.7720e-02, -2.7156e-03, -1.5710e-02, -2.6675e-03, -4.2640e-02,\n",
      "        -4.5544e-03, -3.0258e-02, -1.1048e-02, -1.7954e-02, -7.0294e-03,\n",
      "         4.1462e-02,  1.8389e-02,  3.8785e-02, -2.5207e-02, -1.5615e-02,\n",
      "         3.1051e-02, -1.8081e-02,  7.0840e-04, -3.4864e-02, -4.1206e-02,\n",
      "         3.3837e-02,  3.3124e-02,  2.4864e-02, -2.6001e-02,  2.9197e-02,\n",
      "         6.7639e-03, -3.0863e-02, -3.5707e-02, -4.0384e-02,  2.3524e-02,\n",
      "        -3.1880e-02,  9.0995e-03, -1.6090e-02, -3.1958e-02,  4.3751e-02,\n",
      "         4.0719e-02,  1.8635e-03, -7.8814e-03, -3.0744e-02, -2.7236e-02,\n",
      "        -3.6679e-02, -1.8095e-02,  4.0594e-02,  2.2395e-03, -2.5132e-02,\n",
      "         7.2259e-03, -3.0580e-03, -4.1289e-02, -2.0401e-03, -1.5579e-02,\n",
      "        -3.1793e-02,  1.6738e-02, -1.9781e-02, -1.8459e-02,  1.6606e-02,\n",
      "        -2.9854e-02, -2.9240e-02,  2.4354e-03, -1.7652e-02,  3.4296e-02,\n",
      "         2.9874e-02, -9.2330e-03,  3.3438e-02, -3.1828e-02,  4.0939e-03,\n",
      "         9.7442e-03,  4.0463e-03, -2.1505e-02, -3.2697e-03,  5.7174e-03,\n",
      "         2.8650e-02, -1.5467e-02,  1.4896e-02, -1.3233e-03,  2.3483e-02,\n",
      "         2.8565e-02,  1.8574e-03,  2.8944e-02, -2.6772e-02,  2.1466e-02,\n",
      "         1.4913e-02, -1.2734e-02,  1.2159e-02, -2.2762e-02, -3.6330e-02,\n",
      "         2.7706e-02,  3.5625e-02,  1.0201e-02,  1.0253e-02,  8.0050e-03,\n",
      "         8.4345e-03,  6.7113e-03,  6.6023e-03, -3.4174e-02,  4.2815e-02,\n",
      "        -2.1321e-02,  1.0702e-02, -3.9319e-03,  1.0697e-02, -1.4539e-02,\n",
      "        -6.6311e-04,  2.0667e-02,  2.6903e-02, -1.8585e-03,  1.5106e-02,\n",
      "         3.2037e-02,  5.4795e-03,  1.5683e-02,  2.2001e-02, -2.5735e-02,\n",
      "        -3.9499e-02, -2.5130e-02,  3.7112e-02,  1.3262e-03,  4.1011e-02,\n",
      "        -3.2527e-02, -2.0741e-03, -1.5132e-02, -1.4140e-02, -4.3639e-03,\n",
      "        -1.8793e-02, -5.9424e-03,  7.7976e-03,  2.1097e-02, -3.7385e-02,\n",
      "         3.5479e-02, -7.9314e-03, -1.0947e-02, -3.9245e-02, -3.0907e-02,\n",
      "         3.5890e-02, -2.2850e-02, -2.4428e-02,  2.0076e-02, -2.4553e-02,\n",
      "        -1.8072e-02, -1.0174e-02, -2.2954e-02, -3.4448e-02,  2.6971e-02,\n",
      "         2.5225e-02,  2.7635e-02,  3.1303e-02,  2.6977e-02, -3.8556e-02,\n",
      "         3.2619e-02, -3.3443e-03,  3.9034e-02,  2.8827e-02, -2.0886e-02,\n",
      "         3.2887e-02, -1.6471e-02, -2.1811e-02,  2.3276e-02,  4.3649e-02,\n",
      "        -2.9476e-03, -2.5538e-02,  3.8877e-02, -2.2201e-02,  1.1413e-03,\n",
      "        -2.8826e-02,  4.8645e-03, -3.3430e-02, -2.7253e-02,  1.7079e-02,\n",
      "         7.4750e-03,  4.3623e-04, -1.4566e-02, -3.5735e-02, -3.8540e-02,\n",
      "         4.1237e-02, -2.5645e-02,  1.9156e-03, -3.4008e-04,  1.1484e-02,\n",
      "         3.0851e-02], requires_grad=True)\n",
      "6\n",
      "Parameter containing:\n",
      "tensor([[ 0.0479,  0.0184, -0.0003,  ..., -0.0337, -0.0158, -0.0200],\n",
      "        [-0.0438, -0.0324, -0.0496,  ..., -0.0484,  0.0240, -0.0267],\n",
      "        [ 0.0263,  0.0163, -0.0314,  ...,  0.0538,  0.0265, -0.0326],\n",
      "        ...,\n",
      "        [-0.0364,  0.0420, -0.0246,  ..., -0.0286,  0.0561, -0.0104],\n",
      "        [ 0.0344, -0.0144,  0.0613,  ..., -0.0601,  0.0426, -0.0439],\n",
      "        [-0.0341,  0.0600,  0.0502,  ...,  0.0484,  0.0537,  0.0590]],\n",
      "       requires_grad=True)\n"
     ]
    }
   ],
   "source": [
    "for i, par in enumerate(model_.parameters()):\n",
    "    print(i)\n",
    "    print(par)\n",
    "    if i > 5:\n",
    "        break"
   ]
  },
  {
   "cell_type": "code",
   "execution_count": 118,
   "id": "490b8013",
   "metadata": {},
   "outputs": [
    {
     "name": "stderr",
     "output_type": "stream",
     "text": [
      "epoch:   0%|                                                                                                                                                                                                    | 0/16 [05:21<?, ?it/s]\n"
     ]
    }
   ],
   "source": [
    "losses, accs = train(model=model_,\n",
    "#                      optimizer=HFWrapper(model_, criterion_, HessianFree(model_.parameters(), lr=1.),\n",
    "#                                          use_DAIN=False),\n",
    "                     optimizer=torch.optim.Adam(model_.parameters(), lr=0.5),\n",
    "                     criterion=criterion_,\n",
    "                     scorer=acc_,\n",
    "                     dataloaders=DATA,\n",
    "                     n_epochs=16,\n",
    "                     batch_size=64,\n",
    "                     verbose=False,\n",
    "                     HF=False,\n",
    "                     keep_best=False,\n",
    "                     )"
   ]
  },
  {
   "cell_type": "code",
   "execution_count": 119,
   "id": "46b67256",
   "metadata": {},
   "outputs": [
    {
     "name": "stdout",
     "output_type": "stream",
     "text": [
      "0\n",
      "Parameter containing:\n",
      "tensor([[-0.0074,  0.0476,  0.0726,  0.0216,  0.3325],\n",
      "        [-0.1251, -0.0175, -0.1543, -0.0083, -0.4810],\n",
      "        [-0.0359,  0.0528, -0.0655,  0.0714,  0.0055],\n",
      "        ...,\n",
      "        [-0.0344, -0.0268,  0.0226, -0.0370,  0.0360],\n",
      "        [-0.1202,  0.0429, -0.2407,  0.1334, -0.6941],\n",
      "        [-0.0082, -0.0154,  0.0762, -0.0380,  0.3092]], requires_grad=True)\n",
      "1\n",
      "Parameter containing:\n",
      "tensor([[ 0.0758, -0.0654, -0.0408,  ..., -0.0225,  0.0720, -0.0508],\n",
      "        [-0.1013,  0.1052,  0.0358,  ...,  0.0201, -0.1043,  0.0108],\n",
      "        [-0.0324,  0.0653,  0.0344,  ...,  0.0269, -0.0139, -0.0070],\n",
      "        ...,\n",
      "        [ 0.0521,  0.0257, -0.0101,  ...,  0.0362, -0.0199, -0.0197],\n",
      "        [-0.1516,  0.1800,  0.1127,  ..., -0.0781, -0.1785,  0.0894],\n",
      "        [ 0.0965, -0.0727,  0.0147,  ..., -0.0250,  0.0637, -0.0430]],\n",
      "       requires_grad=True)\n",
      "2\n",
      "Parameter containing:\n",
      "tensor([-0.8613,  1.1464,  0.5309,  ..., -0.3513,  1.4713, -0.8476],\n",
      "       requires_grad=True)\n",
      "3\n",
      "Parameter containing:\n",
      "tensor([-0.8885,  1.1635,  0.5898,  ..., -0.3484,  1.4431, -0.7739],\n",
      "       requires_grad=True)\n",
      "4\n",
      "Parameter containing:\n",
      "tensor([[-0.5722,  2.0074,  1.5213,  ...,  0.4071, -2.0071, -0.5838],\n",
      "        [ 0.3216, -0.2930, -0.1157,  ...,  0.0701,  0.2246, -0.1345],\n",
      "        [ 0.0343,  0.0253, -0.0318,  ...,  0.0211, -0.0216, -0.0440],\n",
      "        ...,\n",
      "        [-0.0239, -0.0338, -0.0403,  ..., -0.0202, -0.0049,  0.0319],\n",
      "        [ 0.0096, -0.0050, -0.0171,  ..., -0.0335, -0.0414, -0.0496],\n",
      "        [ 0.6364, -0.5798, -0.3673,  ...,  0.1864,  0.6300, -0.3671]],\n",
      "       requires_grad=True)\n",
      "5\n",
      "Parameter containing:\n",
      "tensor([ 3.6151e+00, -1.7926e+00, -7.6033e-02,  2.9459e+00, -1.9554e+00,\n",
      "         2.7789e+00,  2.3859e+00,  3.9229e+00,  2.8318e+00, -2.7114e-01,\n",
      "        -3.6256e-02, -2.3520e+00, -2.7510e-02,  2.1253e+00, -1.4755e+00,\n",
      "        -1.8436e+00, -1.3982e+00, -2.4328e-02,  3.5633e+00, -4.0208e-02,\n",
      "        -3.3061e-02, -1.5003e+00, -3.7365e-02,  3.8156e+00, -5.0902e-01,\n",
      "        -1.2822e+00, -1.6861e+00, -1.8083e+00, -2.2631e+00, -5.8190e-01,\n",
      "        -1.5472e+00, -6.5657e-01, -2.4759e-02, -3.3488e-02,  2.1543e+00,\n",
      "         3.8862e+00, -1.8817e+00, -2.5002e-02, -1.9267e+00, -2.3548e+00,\n",
      "        -1.3016e+00, -1.6157e+00, -1.2444e+00,  2.2664e+00, -1.5441e+00,\n",
      "        -2.0228e+00, -1.6661e+00, -5.2973e-02,  3.7508e+00,  2.3167e-01,\n",
      "        -2.4439e+00, -1.3410e+00, -1.5169e+00, -1.9839e+00, -2.3534e+00,\n",
      "         2.3311e+00,  2.2975e+00,  1.7532e+00, -4.4110e-02, -7.9928e-02,\n",
      "        -1.9993e+00, -3.4879e-02, -1.6132e+00,  3.1848e+00, -1.9419e+00,\n",
      "        -1.5962e-01,  6.7377e-02,  3.3418e+00, -1.5491e+00, -2.8754e-02,\n",
      "        -2.3245e+00, -4.2838e-02, -3.1284e-02, -5.8044e-01, -1.9532e+00,\n",
      "        -2.0433e-02, -3.2092e-02,  1.4332e+00, -8.6733e-03, -2.1117e-02,\n",
      "        -1.8696e+00, -1.3057e+00, -1.5710e-02,  2.9907e-01, -4.2640e-02,\n",
      "        -1.5088e+00, -2.1618e+00, -1.9806e+00, -1.7052e+00, -1.9747e+00,\n",
      "        -1.1793e+00, -1.7268e+00,  2.1342e+00, -2.4692e+00,  3.7945e+00,\n",
      "        -1.1144e+00,  2.4230e+00,  3.2484e-01, -3.4864e-02, -4.1206e-02,\n",
      "         3.0838e+00, -1.7492e+00, -1.6430e+00,  2.3026e+00, -2.0685e+00,\n",
      "        -1.0061e+00, -2.1183e+00, -3.7657e-01, -4.0384e-02, -2.2687e+00,\n",
      "        -5.1018e-01, -1.3833e+00,  1.2761e+00, -3.1958e-02, -1.3821e+00,\n",
      "        -2.1623e+00, -4.9511e-01, -5.7856e-01, -3.0744e-02, -2.7236e-02,\n",
      "        -3.6679e-02, -3.2060e-01, -2.4289e+00, -2.1390e+00, -2.5132e-02,\n",
      "         3.2264e-02, -1.1206e+00, -4.1289e-02, -3.9427e-01, -1.7329e+00,\n",
      "        -1.8075e+00,  3.4173e+00, -4.9957e-01, -1.8459e-02, -1.2279e+00,\n",
      "        -2.9854e-02, -2.9240e-02,  3.9766e+00,  2.5537e+00, -7.4251e-01,\n",
      "        -1.2823e+00, -1.3009e-01, -1.5191e+00,  7.8452e-01, -1.6372e+00,\n",
      "        -4.5022e-01, -1.8711e+00, -2.9578e-02, -2.1220e+00, -1.6206e+00,\n",
      "         3.8173e+00,  2.8035e+00, -1.6438e+00, -2.2831e+00, -2.1468e+00,\n",
      "        -1.6433e+00, -1.0945e+00, -1.2198e+00, -2.6772e-02, -2.4847e-01,\n",
      "        -1.1153e+00,  3.1935e+00, -5.4982e-01, -2.2762e-02, -3.6330e-02,\n",
      "        -1.6367e+00, -6.5132e-01,  3.8177e+00,  4.0432e+00,  3.9101e+00,\n",
      "        -1.8792e+00, -2.0515e+00, -1.2016e+00, -3.4174e-02, -1.0802e+00,\n",
      "        -2.4344e+00, -1.2713e+00, -4.9478e-01, -1.7224e+00,  2.3183e+00,\n",
      "         3.8362e+00, -1.3937e+00, -1.8275e+00, -1.8585e-03, -1.7498e+00,\n",
      "        -2.2249e+00, -1.9949e+00, -1.7748e+00,  3.8436e+00, -2.5735e-02,\n",
      "        -3.9499e-02, -2.0720e-01, -2.2508e+00, -5.1932e-01, -1.9030e+00,\n",
      "         1.7434e+00,  3.0700e+00, -1.5132e-02, -1.8502e+00,  2.7799e+00,\n",
      "        -1.8793e-02, -1.4119e+00, -7.7084e-01,  2.6528e+00, -3.7385e-02,\n",
      "        -4.3967e-01, -7.9314e-03, -1.5983e+00, -3.9245e-02, -3.0907e-02,\n",
      "        -1.1476e+00, -1.8284e+00,  2.4038e+00, -7.0218e-01,  2.4245e+00,\n",
      "        -1.9235e-01, -2.3446e+00, -2.2954e-02,  1.0410e-02, -1.6977e+00,\n",
      "        -2.2624e+00, -6.4607e-01, -6.0977e-01, -1.6186e+00, -3.8556e-02,\n",
      "        -3.4354e-01, -2.3160e+00,  1.3467e-01, -3.9994e-01, -2.0886e-02,\n",
      "        -1.9868e+00,  2.7001e+00, -2.2683e+00, -7.3491e-01, -1.7131e+00,\n",
      "         2.1998e+00, -2.2416e+00,  1.6138e+00, -2.2201e-02, -2.1548e-01,\n",
      "        -1.8986e+00, -2.3577e+00, -4.0290e-01, -2.7253e-02,  2.9799e+00,\n",
      "        -1.5977e+00, -1.8747e+00,  3.5162e+00,  1.7968e+00,  5.7135e-01,\n",
      "         3.3049e+00,  1.9235e+00, -1.8046e+00, -9.3931e-01, -7.2715e-01,\n",
      "        -1.2520e+00], requires_grad=True)\n",
      "6\n",
      "Parameter containing:\n",
      "tensor([[ 5.5639e-01,  5.1879e-01, -6.2167e-04,  ..., -3.8080e-02,\n",
      "         -2.7010e-02,  2.2734e+00],\n",
      "        [ 3.6152e-01,  3.6629e-01, -4.9762e-02,  ..., -5.0418e-02,\n",
      "          1.8899e-02,  2.1723e+00],\n",
      "        [ 2.4105e-01,  2.2728e-01, -3.1385e-02,  ...,  5.3061e-02,\n",
      "          2.4571e-02,  1.8296e+00],\n",
      "        ...,\n",
      "        [-3.7680e-01, -2.8895e-01, -2.4633e-02,  ..., -2.8365e-02,\n",
      "          5.6771e-02, -2.1219e+00],\n",
      "        [ 2.1843e-01,  1.6574e-01,  6.1338e-02,  ..., -6.0256e-02,\n",
      "          4.2058e-02,  1.7217e+00],\n",
      "        [-1.8020e-01, -8.2565e-02,  5.0235e-02,  ...,  4.8608e-02,\n",
      "          5.4172e-02, -1.5559e+00]], requires_grad=True)\n"
     ]
    }
   ],
   "source": [
    "for i, par in enumerate(model_.parameters()):\n",
    "    print(i)\n",
    "    print(par)\n",
    "    if i > 5:\n",
    "        break"
   ]
  },
  {
   "cell_type": "code",
   "execution_count": 120,
   "id": "a906c4a3",
   "metadata": {},
   "outputs": [
    {
     "data": {
      "image/png": "[encoded data removed]",
      "text/plain": [
       "<Figure size 432x288 with 1 Axes>"
      ]
     },
     "metadata": {
      "needs_background": "light"
     },
     "output_type": "display_data"
    }
   ],
   "source": [
    "def mean(x):\n",
    "    return sum(x) / len(x)\n",
    "\n",
    "plot_group([mean(i) for i in losses])"
   ]
  },
  {
   "cell_type": "code",
   "execution_count": 121,
   "id": "f0eccbb4",
   "metadata": {},
   "outputs": [
    {
     "data": {
      "image/png": "[encoded data removed]",
      "text/plain": [
       "<Figure size 432x288 with 1 Axes>"
      ]
     },
     "metadata": {
      "needs_background": "light"
     },
     "output_type": "display_data"
    }
   ],
   "source": [
    "plot_group([mean(i) for i in accs])"
   ]
  },
  {
   "cell_type": "code",
   "execution_count": null,
   "id": "6ec2bd08",
   "metadata": {},
   "outputs": [],
   "source": []
  }
 ],
 "metadata": {
  "kernelspec": {
   "display_name": "venv",
   "language": "python",
   "name": "venv"
  },
  "language_info": {
   "codemirror_mode": {
    "name": "ipython",
    "version": 3
   },
   "file_extension": ".py",
   "mimetype": "text/x-python",
   "name": "python",
   "nbconvert_exporter": "python",
   "pygments_lexer": "ipython3",
   "version": "3.9.2"
  }
 },
 "nbformat": 4,
 "nbformat_minor": 5
}
